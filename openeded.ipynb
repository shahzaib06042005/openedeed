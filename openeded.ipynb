{
  "nbformat": 4,
  "nbformat_minor": 0,
  "metadata": {
    "colab": {
      "provenance": []
    },
    "kernelspec": {
      "name": "python3",
      "display_name": "Python 3"
    },
    "language_info": {
      "name": "python"
    }
  },
  "cells": [
    {
      "cell_type": "code",
      "execution_count": 1,
      "metadata": {
        "id": "qpeW83c79zgs"
      },
      "outputs": [],
      "source": [
        "import pandas as pd\n"
      ]
    },
    {
      "cell_type": "code",
      "source": [
        "df = pd.read_csv('shelter_data.csv')\n"
      ],
      "metadata": {
        "id": "Cdz593fu-FMq"
      },
      "execution_count": 11,
      "outputs": []
    },
    {
      "cell_type": "code",
      "source": [
        "\n",
        "\n",
        "print(df[df['capacity'] < 200])\n"
      ],
      "metadata": {
        "colab": {
          "base_uri": "https://localhost:8080/"
        },
        "id": "ogD3vzVM_K7y",
        "outputId": "7fc501e3-a858-40f1-dbe8-e38e949e211d"
      },
      "execution_count": 12,
      "outputs": [
        {
          "output_type": "stream",
          "name": "stdout",
          "text": [
            "  shelter_id  shelter_name  capacity\n",
            "1         S2  Beta Shelter       150\n",
            "3         S4  Echo Shelter       100\n"
          ]
        }
      ]
    },
    {
      "cell_type": "code",
      "source": [
        "\n",
        "max_capacity_shelter = df.loc[df['capacity'].idxmax()]\n",
        "\n",
        "max_capacity_shelter\n"
      ],
      "metadata": {
        "colab": {
          "base_uri": "https://localhost:8080/",
          "height": 178
        },
        "id": "z_JHQO6I_R9a",
        "outputId": "edc3094b-21dd-4da0-a2e4-22aaf963452c"
      },
      "execution_count": 13,
      "outputs": [
        {
          "output_type": "execute_result",
          "data": {
            "text/plain": [
              "shelter_id                 S3\n",
              "shelter_name    Delta Shelter\n",
              "capacity                  300\n",
              "Name: 2, dtype: object"
            ],
            "text/html": [
              "<div>\n",
              "<style scoped>\n",
              "    .dataframe tbody tr th:only-of-type {\n",
              "        vertical-align: middle;\n",
              "    }\n",
              "\n",
              "    .dataframe tbody tr th {\n",
              "        vertical-align: top;\n",
              "    }\n",
              "\n",
              "    .dataframe thead th {\n",
              "        text-align: right;\n",
              "    }\n",
              "</style>\n",
              "<table border=\"1\" class=\"dataframe\">\n",
              "  <thead>\n",
              "    <tr style=\"text-align: right;\">\n",
              "      <th></th>\n",
              "      <th>2</th>\n",
              "    </tr>\n",
              "  </thead>\n",
              "  <tbody>\n",
              "    <tr>\n",
              "      <th>shelter_id</th>\n",
              "      <td>S3</td>\n",
              "    </tr>\n",
              "    <tr>\n",
              "      <th>shelter_name</th>\n",
              "      <td>Delta Shelter</td>\n",
              "    </tr>\n",
              "    <tr>\n",
              "      <th>capacity</th>\n",
              "      <td>300</td>\n",
              "    </tr>\n",
              "  </tbody>\n",
              "</table>\n",
              "</div><br><label><b>dtype:</b> object</label>"
            ]
          },
          "metadata": {},
          "execution_count": 13
        }
      ]
    },
    {
      "cell_type": "code",
      "source": [
        "\n",
        "roads = {\n",
        " 'S1': ['S2', 'S3'],\n",
        " 'S2': ['S1', 'S4'],\n",
        " 'S3': ['S1', 'S5'],\n",
        " 'S4': ['S2'],\n",
        " 'S5': ['S3']\n",
        "}\n"
      ],
      "metadata": {
        "id": "ySfEGKnHCYgj"
      },
      "execution_count": 16,
      "outputs": []
    },
    {
      "cell_type": "code",
      "source": [
        "\n",
        "from collections import deque\n",
        "\n",
        "def find_reachable_shelters(roads, start):\n",
        "    visited = set()\n",
        "    queue = deque([start])\n",
        "    reachable_shelters = []\n",
        "\n",
        "    while queue:\n",
        "        shelter = queue.popleft()\n",
        "        if shelter not in visited:\n",
        "            visited.add(shelter)\n",
        "            reachable_shelters.append(shelter)\n",
        "            for neighbor in roads.get(shelter, []):\n",
        "                if neighbor not in visited:\n",
        "                    queue.append(neighbor)\n",
        "    return reachable_shelters\n",
        "\n",
        "roads = {\n",
        "    'S1': ['S2', 'S3'],\n",
        "    'S2': ['S1', 'S4'],\n",
        "    'S3': ['S1', 'S5'],\n",
        "    'S4': ['S2'],\n",
        "    'S5': ['S3']\n",
        "}\n",
        "\n",
        "start_shelter = 'S1'\n",
        "reachable = find_reachable_shelters(roads, start_shelter)\n",
        "print(f\"Shelters reachable from {start_shelter}: {reachable}\")\n"
      ],
      "metadata": {
        "colab": {
          "base_uri": "https://localhost:8080/"
        },
        "id": "jWjtdsWQCfQT",
        "outputId": "38a08903-80e2-48f7-968d-8ae855fc6a57"
      },
      "execution_count": 17,
      "outputs": [
        {
          "output_type": "stream",
          "name": "stdout",
          "text": [
            "Shelters reachable from S1: ['S1', 'S2', 'S3', 'S4', 'S5']\n"
          ]
        }
      ]
    },
    {
      "cell_type": "code",
      "source": [
        "\n",
        "reachable_shelters_with_capacity = []\n",
        "for shelter in reachable:\n",
        "    shelter_data = df[df['shelter_name'] == shelter]\n",
        "    if not shelter_data.empty and shelter_data['capacity'].iloc[0] > 200:\n",
        "        reachable_shelters_with_capacity.append(shelter)\n",
        "print(f\"Reachable shelters with capacity > 200: {reachable_shelters_with_capacity}\")\n"
      ],
      "metadata": {
        "colab": {
          "base_uri": "https://localhost:8080/"
        },
        "id": "bqoaxblmEPdb",
        "outputId": "b99b5549-08ce-4945-e45f-d78250c7916d"
      },
      "execution_count": 18,
      "outputs": [
        {
          "output_type": "stream",
          "name": "stdout",
          "text": [
            "Reachable shelters with capacity > 200: []\n"
          ]
        }
      ]
    }
  ]
}